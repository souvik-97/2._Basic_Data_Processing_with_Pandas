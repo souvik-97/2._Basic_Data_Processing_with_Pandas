{
 "cells": [
  {
   "cell_type": "markdown",
   "metadata": {},
   "source": [
    "Week 2 Reading Assignments:\n",
    "\n",
    "Course Textbook\n",
    "    Python for Data Analysis by Wes McKinney (O’Reilly). Copyright 2017 Wes McKinney, 978-1-491-95766-0.\n",
    "\n",
    "    Chapter Five: Getting started with pandas\n",
    "    Chapter Seven: Data Cleaning and Preparation\n",
    "\n",
    "https://wesmckinney.com/pages/book.html\n",
    "\n",
    "    2nd Edition Resources:\n",
    "        Book Data and Code Notebooks: https://github.com/wesm/pydata-book"
   ]
  }
 ],
 "metadata": {
  "kernelspec": {
   "display_name": "Python 3",
   "language": "python",
   "name": "python3"
  },
  "language_info": {
   "codemirror_mode": {
    "name": "ipython",
    "version": 3
   },
   "file_extension": ".py",
   "mimetype": "text/x-python",
   "name": "python",
   "nbconvert_exporter": "python",
   "pygments_lexer": "ipython3",
   "version": "3.8.5"
  }
 },
 "nbformat": 4,
 "nbformat_minor": 4
}

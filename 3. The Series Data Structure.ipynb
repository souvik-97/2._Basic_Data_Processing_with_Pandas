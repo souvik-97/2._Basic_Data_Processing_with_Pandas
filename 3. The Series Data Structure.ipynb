{
 "cells": [
  {
   "cell_type": "markdown",
   "metadata": {},
   "source": [
    "In this lecture, we're going to explore the pandas series structure. By the end of this lecture, you should be familiar with how to store and manipulate single-dimensional index data in the Series object. \n",
    "The series is one of the core data structures in pandas. You can think of it as a cross between a list and a dictionary. The items are all stored in an order and there's labels with which you can retrieve them. An easy way to visualize this is two columns of data. The first is the special index, a lot like keys in a dictionary. While the second is your actual data. It's important to note that the data column has the label of its own and can be retrieved using the dot name attribute. This is different than with dictionaries and is useful when it comes to merging multiple columns of data, and we'll talk about that later on in the course."
   ]
  },
  {
   "cell_type": "code",
   "execution_count": 1,
   "metadata": {},
   "outputs": [],
   "source": [
    "#Let's import pandas to get things started\n",
    "import pandas as pd"
   ]
  },
  {
   "cell_type": "code",
   "execution_count": 2,
   "metadata": {},
   "outputs": [
    {
     "data": {
      "text/plain": [
       "0    Alice\n",
       "1     Jack\n",
       "2    Molly\n",
       "dtype: object"
      ]
     },
     "execution_count": 2,
     "metadata": {},
     "output_type": "execute_result"
    }
   ],
   "source": [
    "# As you might expect you can create a series by passing in a list of values. When you do this, pandas automatically assigns an\n",
    "# index starting with zero and sets the name of the series to None. Let's work on an example of this.\n",
    "\n",
    "# One of the easiest ways to create a series is to use an array-like object like a list. So here I'll make a list of three\n",
    "# students, Alice, Jack, and Molly all as strings:\n",
    "students = ['Alice','Jack', 'Molly']\n",
    "\n",
    "# Now we just call the series function in pandas and pass in the students\n",
    "pd.Series(students)"
   ]
  },
  {
   "cell_type": "code",
   "execution_count": 3,
   "metadata": {},
   "outputs": [
    {
     "data": {
      "text/plain": [
       "0    1\n",
       "1    2\n",
       "2    3\n",
       "dtype: int64"
      ]
     },
     "execution_count": 3,
     "metadata": {},
     "output_type": "execute_result"
    }
   ],
   "source": [
    "# The results is a Series object which is nicely rendered to the screen. We see here that the pandas has automatically \n",
    "# identified the type of data in the series as \"object\" and set the dtype parameter as appropriate. We see that the values are\n",
    "# indexed with integers starting with zero.\n",
    "\n",
    "# Now we don't have to use strings. If we passed in a list of whole numbers for instance, we can see that pandas sets the type\n",
    "# to int64. Underneath, pandas storage series values in a typed array using the Numpy library. This offer significant speed-up\n",
    "# when processing data versus traditional python lists. \n",
    "\n",
    "# Let's create a little list of numbers.\n",
    "numbers =[1,2,3]\n",
    "pd.Series(numbers)"
   ]
  },
  {
   "cell_type": "code",
   "execution_count": 4,
   "metadata": {},
   "outputs": [
    {
     "data": {
      "text/plain": [
       "0    Alice\n",
       "1     Jack\n",
       "2     None\n",
       "dtype: object"
      ]
     },
     "execution_count": 4,
     "metadata": {},
     "output_type": "execute_result"
    }
   ],
   "source": [
    "# We see that on my architecture, the result is a dtype of int64 objects.\n",
    "\n",
    "# There's some other typing details that exists for performance that are important to know. The most important is how Numpy and\n",
    "# thus pandas handle missing data. \n",
    "# In Python, we have the None type to indicate a lack of data. But what do we do if we want to have a typed list like this in\n",
    "# the series object? \n",
    "# Underneath, pandas does some type conversion for us. If we create a list of strings and we have one element, a None type,\n",
    "# pandas inserts that as a None and uses the type object for the underlying array. \n",
    "\n",
    "# Okay. Let's recreate our list of students, but let's leave out the last one and we'll just set it to None.\n",
    "students = ['Alice', 'Jack', None]\n",
    "pd.Series(students)"
   ]
  },
  {
   "cell_type": "code",
   "execution_count": 6,
   "metadata": {},
   "outputs": [
    {
     "data": {
      "text/plain": [
       "0    1.0\n",
       "1    2.0\n",
       "2    NaN\n",
       "dtype: float64"
      ]
     },
     "execution_count": 6,
     "metadata": {},
     "output_type": "execute_result"
    }
   ],
   "source": [
    "# So if we create a list of numbers, integers, or floats and put it in a None type, pandas automatically converts this into a\n",
    "# special floating-point value designated as NaN which stands for \"Not a Number\". \n",
    "# So let's see an example of this. We will create a list with a None value in it. \n",
    "numbers = [1,2,None]\n",
    "pd.Series(numbers)"
   ]
  },
  {
   "cell_type": "code",
   "execution_count": 7,
   "metadata": {},
   "outputs": [
    {
     "data": {
      "text/plain": [
       "False"
      ]
     },
     "execution_count": 7,
     "metadata": {},
     "output_type": "execute_result"
    }
   ],
   "source": [
    "# You'll notice a couple of things. First, NaN is a different value. Second, pandas set the dtype of this series to a floating\n",
    "#point numbers instead of an object or ints. That's maybe a bit of a surprise. Why not just leave this as an integer?\n",
    "# Underneath, pandas represents NaN as a floating point number and because integers can be typecast to float, pandas went and\n",
    "# converted our integers to floats automatically. So when you're wondering why the list of integers you put into a series is not\n",
    "# floats, it's probably because there is some missing data. \n",
    "\n",
    "# For those who might not have done scientific computing in Python before, it's important to stress that None and NaN might be\n",
    "# used by the Data Scientist in the same way, to denote missing data. But that underneath, these are not represented by pandas\n",
    "# in the same way.\n",
    "\n",
    "# NaN is not equivalent to None and when we try the equality tests, the result is false. \n",
    "\n",
    "# Let's bring in Numpy which allows us to generate an NaN value\n",
    "import numpy as np\n",
    "# And lets compare it to None\n",
    "np.nan == None"
   ]
  },
  {
   "cell_type": "code",
   "execution_count": 8,
   "metadata": {},
   "outputs": [
    {
     "data": {
      "text/plain": [
       "False"
      ]
     },
     "execution_count": 8,
     "metadata": {},
     "output_type": "execute_result"
    }
   ],
   "source": [
    "# It turns out that you actually can't even do an equality test of NaN to itself. When you do the answer's always false\n",
    "np.nan == np.nan"
   ]
  },
  {
   "cell_type": "code",
   "execution_count": 9,
   "metadata": {},
   "outputs": [
    {
     "data": {
      "text/plain": [
       "True"
      ]
     },
     "execution_count": 9,
     "metadata": {},
     "output_type": "execute_result"
    }
   ],
   "source": [
    "# Instead you need to use special functions to test for the presence of not a number, such as the Numpy library isnan():\n",
    "np.isnan(np.nan)"
   ]
  },
  {
   "cell_type": "code",
   "execution_count": 11,
   "metadata": {},
   "outputs": [],
   "source": [
    "# So keep in mind that when you see NaN, it's meaning is similar to None but it's a numeric value and treated differently for\n",
    "# efficiency reasons."
   ]
  },
  {
   "cell_type": "code",
   "execution_count": 13,
   "metadata": {},
   "outputs": [
    {
     "data": {
      "text/plain": [
       "Alice      Physics\n",
       "Jack     Chemistry\n",
       "Molly      English\n",
       "dtype: object"
      ]
     },
     "execution_count": 13,
     "metadata": {},
     "output_type": "execute_result"
    }
   ],
   "source": [
    "# Let's talk more about how pandas series can be created. While my list might be a common way to create some play data, often\n",
    "# you have labeled data that you want to manipulate. A series can be created directly from dictionary data. If you do this, the\n",
    "# index is automatically assigned to the keys of the dictionary that you provided and not just incrementing integers.\n",
    "\n",
    "# Here's an example using some data of students and their classes. So I'll create a new dictionaries called student scores. I'll\n",
    "# have the keys, names, so Alice is Physics, then I'll make Jack, Chemistry and Molly you are in English, and now I'm going to\n",
    "# create some new series. So pd.Series and passing this course, I will assign it S and then just print out S.\n",
    "student_scores = {'Alice': 'Physics',\n",
    "                  'Jack': 'Chemistry',\n",
    "                  'Molly': 'English'}\n",
    "s = pd.Series(student_scores)\n",
    "s"
   ]
  },
  {
   "cell_type": "code",
   "execution_count": null,
   "metadata": {},
   "outputs": [],
   "source": [
    "# We see that since it was string data, pandas set the data type of the serious to object, and we see that the index, the first\n",
    "# column is a list of strings."
   ]
  },
  {
   "cell_type": "code",
   "execution_count": 14,
   "metadata": {},
   "outputs": [
    {
     "data": {
      "text/plain": [
       "Index(['Alice', 'Jack', 'Molly'], dtype='object')"
      ]
     },
     "execution_count": 14,
     "metadata": {},
     "output_type": "execute_result"
    }
   ],
   "source": [
    "# Once this series has been created, we can get the index object using the index attribute. So if we just do S.index for\n",
    "# instance.\n",
    "s.index"
   ]
  },
  {
   "cell_type": "code",
   "execution_count": 15,
   "metadata": {},
   "outputs": [
    {
     "data": {
      "text/plain": [
       "0            (MS, Dhoni)\n",
       "1    (Sachin, Tendulkar)\n",
       "2         (Virat, Kolhi)\n",
       "dtype: object"
      ]
     },
     "execution_count": 15,
     "metadata": {},
     "output_type": "execute_result"
    }
   ],
   "source": [
    "# As you play more with pandas, you'll notice that a lot of things are implemented as Numpy arrays and that they have the dtype\n",
    "# value set. This is true of indices, and here pandas inferred that we're using objects for the index and that's cool. \n",
    "\n",
    "# Now this is interesting because the dtype of object is not just for strings, but for arbitrary objects. So let's create a more\n",
    "# complex type of data, say a list of tuples.\n",
    "students = [(\"MS\",\"Dhoni\"),(\"Sachin\",\"Tendulkar\"),(\"Virat\",\"Kolhi\")]\n",
    "pd.Series(students)"
   ]
  },
  {
   "cell_type": "code",
   "execution_count": 16,
   "metadata": {},
   "outputs": [
    {
     "data": {
      "text/plain": [
       "Rahul      Physics\n",
       "Rohit    Chemistry\n",
       "Virat      English\n",
       "dtype: object"
      ]
     },
     "execution_count": 16,
     "metadata": {},
     "output_type": "execute_result"
    }
   ],
   "source": [
    "# So we see that each of the tuples are stored in the series object and the type is object. \n",
    "\n",
    "# You can also separate your index creation from the data by passing in an index as a list explicitly to the series.\n",
    "s = pd.Series(['Physics','Chemistry','English'], index=['Rahul','Rohit','Virat'])\n",
    "s"
   ]
  },
  {
   "cell_type": "code",
   "execution_count": 17,
   "metadata": {},
   "outputs": [
    {
     "data": {
      "text/plain": [
       "Alice    Physics\n",
       "Molly    English\n",
       "Sam          NaN\n",
       "dtype: object"
      ]
     },
     "execution_count": 17,
     "metadata": {},
     "output_type": "execute_result"
    }
   ],
   "source": [
    "# So what happens if your list of values in the index object are not aligned with the keys in your dictionary for creating the\n",
    "# series? Well, pandas overrides the automatic creation to favor only and all of the index values that you provide it. So we'll\n",
    "# ignore from your dictionary all keys which are not near index and pandas will add None or NaN type values for any index value\n",
    "# you provide, which is not in your dictionary key list.\n",
    "\n",
    "# Here's an example, I'll pass in a dictionary of three items in this case the students and their courses\n",
    "students_scores = {'Alice': 'Physics',\n",
    "                  'Jack': 'Chemistry',\n",
    "                  'Molly': 'English'}\n",
    "# When I create the series object though I'll only ask for an index with three students, and I'll exclude Jack:\n",
    "s = pd.Series(student_scores, index=['Alice','Molly','Sam'])\n",
    "s"
   ]
  },
  {
   "cell_type": "code",
   "execution_count": null,
   "metadata": {},
   "outputs": [],
   "source": [
    "# The result is that the Series object doesn't have Jack in it even though he was in our original dataset, but explicitly does\n",
    "# have Sam in it but as a missing value. \n"
   ]
  },
  {
   "cell_type": "markdown",
   "metadata": {},
   "source": [
    "In this lecture, we've explored the pandas series data structure. You've seen how to create a series from lists and dictionaries, how indices work on data work, and the way that pandas type casts data including missing values."
   ]
  }
 ],
 "metadata": {
  "kernelspec": {
   "display_name": "Python 3",
   "language": "python",
   "name": "python3"
  },
  "language_info": {
   "codemirror_mode": {
    "name": "ipython",
    "version": 3
   },
   "file_extension": ".py",
   "mimetype": "text/x-python",
   "name": "python",
   "nbconvert_exporter": "python",
   "pygments_lexer": "ipython3",
   "version": "3.8.5"
  }
 },
 "nbformat": 4,
 "nbformat_minor": 4
}
